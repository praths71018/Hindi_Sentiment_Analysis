{
 "cells": [
  {
   "cell_type": "code",
   "execution_count": 1,
   "metadata": {},
   "outputs": [],
   "source": [
    "from translator import Hinglish2HindiTranslator\n",
    "import pandas as pd\n",
    "import re\n",
    "import string  # Import string module for English character detection"
   ]
  },
  {
   "cell_type": "code",
   "execution_count": 2,
   "metadata": {},
   "outputs": [],
   "source": [
    "def remove_punctuation(text):\n",
    "    return re.sub(r'[^\\w\\s]', '', text)"
   ]
  },
  {
   "cell_type": "code",
   "execution_count": 3,
   "metadata": {},
   "outputs": [],
   "source": [
    "input_csv = \"/Users/prathamshetty/Desktop/Sem 6/NLP/Project/Dataset/emotions2.csv\"  # Path to input CSV file\n",
    "column_name = \"Review\"  # Name of the column containing Hinglish text\n",
    "output_csv = \"sentiment.csv\"  # Path to output CSV file\n",
    "model_path = '/Users/prathamshetty/Downloads/NLP-Transliteration-master/torch-transformer-hinglish2hindi-translator/model/hinglish2hindi_epoch-50.pth.tar'"
   ]
  },
  {
   "cell_type": "code",
   "execution_count": 4,
   "metadata": {},
   "outputs": [
    {
     "name": "stdout",
     "output_type": "stream",
     "text": [
      "=> Loading checkpoint\n"
     ]
    }
   ],
   "source": [
    "\n",
    "# Initialize translator\n",
    "translator = Hinglish2HindiTranslator(model_path=model_path, model_type_oneHot=False)"
   ]
  },
  {
   "cell_type": "code",
   "execution_count": 5,
   "metadata": {},
   "outputs": [
    {
     "data": {
      "text/html": [
       "<div>\n",
       "<style scoped>\n",
       "    .dataframe tbody tr th:only-of-type {\n",
       "        vertical-align: middle;\n",
       "    }\n",
       "\n",
       "    .dataframe tbody tr th {\n",
       "        vertical-align: top;\n",
       "    }\n",
       "\n",
       "    .dataframe thead th {\n",
       "        text-align: right;\n",
       "    }\n",
       "</style>\n",
       "<table border=\"1\" class=\"dataframe\">\n",
       "  <thead>\n",
       "    <tr style=\"text-align: right;\">\n",
       "      <th></th>\n",
       "      <th>Review</th>\n",
       "      <th>Sentiment</th>\n",
       "    </tr>\n",
       "  </thead>\n",
       "  <tbody>\n",
       "    <tr>\n",
       "      <th>0</th>\n",
       "      <td>Yeh product bilkul bekar hai. Kharab quality a...</td>\n",
       "      <td>Angry</td>\n",
       "    </tr>\n",
       "    <tr>\n",
       "      <th>1</th>\n",
       "      <td>Mujhe yeh product bohot pasand aaya! Quality m...</td>\n",
       "      <td>Happy</td>\n",
       "    </tr>\n",
       "    <tr>\n",
       "      <th>2</th>\n",
       "      <td>Is product ki quality itni ghatiya hai ki mujh...</td>\n",
       "      <td>Sad</td>\n",
       "    </tr>\n",
       "    <tr>\n",
       "      <th>3</th>\n",
       "      <td>Wow! Kya amazing product hai! Bahut hi acchi q...</td>\n",
       "      <td>Happy</td>\n",
       "    </tr>\n",
       "    <tr>\n",
       "      <th>4</th>\n",
       "      <td>Customer service waalon ne mujhe bilkul bhi su...</td>\n",
       "      <td>Angry</td>\n",
       "    </tr>\n",
       "  </tbody>\n",
       "</table>\n",
       "</div>"
      ],
      "text/plain": [
       "                                              Review  Sentiment\n",
       "0  Yeh product bilkul bekar hai. Kharab quality a...      Angry\n",
       "1  Mujhe yeh product bohot pasand aaya! Quality m...      Happy\n",
       "2  Is product ki quality itni ghatiya hai ki mujh...        Sad\n",
       "3  Wow! Kya amazing product hai! Bahut hi acchi q...      Happy\n",
       "4  Customer service waalon ne mujhe bilkul bhi su...      Angry"
      ]
     },
     "execution_count": 5,
     "metadata": {},
     "output_type": "execute_result"
    }
   ],
   "source": [
    "\n",
    "# Read CSV file\n",
    "df = pd.read_csv(input_csv)\n",
    "df.head(5)"
   ]
  },
  {
   "cell_type": "code",
   "execution_count": 6,
   "metadata": {},
   "outputs": [],
   "source": [
    "# Transliterate each row\n",
    "df['Translated_Text'] = df[column_name].apply(lambda x: translator.translate(remove_punctuation(x.lower())))"
   ]
  },
  {
   "cell_type": "code",
   "execution_count": 7,
   "metadata": {},
   "outputs": [],
   "source": [
    "df['Review']=df['Translated_Text']\n",
    "df.drop(columns=['Translated_Text'],inplace=True)"
   ]
  },
  {
   "cell_type": "code",
   "execution_count": 8,
   "metadata": {},
   "outputs": [
    {
     "name": "stdout",
     "output_type": "stream",
     "text": [
      "Translation saved to 'sentiment.csv'\n"
     ]
    }
   ],
   "source": [
    "# Save transliterated text to a new CSV file\n",
    "df.to_csv(output_csv, index=False)\n",
    "\n",
    "print(f\"Translation saved to '{output_csv}'\")"
   ]
  }
 ],
 "metadata": {
  "kernelspec": {
   "display_name": "base",
   "language": "python",
   "name": "python3"
  },
  "language_info": {
   "codemirror_mode": {
    "name": "ipython",
    "version": 3
   },
   "file_extension": ".py",
   "mimetype": "text/x-python",
   "name": "python",
   "nbconvert_exporter": "python",
   "pygments_lexer": "ipython3",
   "version": "3.9.12"
  }
 },
 "nbformat": 4,
 "nbformat_minor": 2
}
